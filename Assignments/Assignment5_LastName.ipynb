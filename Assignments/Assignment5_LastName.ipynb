{
 "cells": [
  {
   "cell_type": "markdown",
   "id": "ae743577-a970-451b-948f-d528d21c63d8",
   "metadata": {},
   "source": [
    "# In Class Activity - Spotify Database - SQL Practice"
   ]
  },
  {
   "cell_type": "markdown",
   "id": "648408a3-f1b6-4f97-9cc2-2d740b59d5d2",
   "metadata": {},
   "source": [
    "Instructor: Melissa Laurino</br>\n",
    "Spring 2025</br>\n",
    "\n",
    "Name:\n",
    "</br>\n",
    "Date:\n",
    "<br>\n",
    "<br>"
   ]
  },
  {
   "cell_type": "code",
   "execution_count": 18,
   "id": "c93e0d77-aebd-4c66-a2b2-6b9cd7933bc8",
   "metadata": {},
   "outputs": [],
   "source": [
    "# Load necessary packages:\n",
    "from sqlalchemy import create_engine, inspect, text # Database navigation\n",
    "import sqlite3 # A second option for working with databases\n",
    "import pandas as pd # Python data manilpulation"
   ]
  },
  {
   "cell_type": "code",
   "execution_count": null,
   "id": "51763e7c-c15f-496d-9bdf-3b03e81a4189",
   "metadata": {},
   "outputs": [],
   "source": [
    "# Set working directory (If needed)\n",
    "import os\n",
    "os.chdir('')"
   ]
  },
  {
   "cell_type": "code",
   "execution_count": null,
   "id": "eaf795b9-3bac-42e6-b51d-8fa035e85d55",
   "metadata": {},
   "outputs": [],
   "source": [
    "# Print the columns in the database:"
   ]
  },
  {
   "cell_type": "code",
   "execution_count": 26,
   "id": "09436b30-c735-4629-8bb3-6a5a2925046a",
   "metadata": {},
   "outputs": [],
   "source": [
    "# Create a SQLite database and engine\n",
    "db_file = \"spotify_data.db\"\n",
    "engine = create_engine(f\"sqlite:///{db_file}\")"
   ]
  },
  {
   "cell_type": "code",
   "execution_count": 28,
   "id": "74700106-a8d3-48b5-8eb5-2acf9c8a5450",
   "metadata": {},
   "outputs": [
    {
     "name": "stdout",
     "output_type": "stream",
     "text": [
      "Columns in spotify_history table:\n",
      "ts - TEXT\n",
      "platform - TEXT\n",
      "ms_played - BIGINT\n",
      "conn_country - TEXT\n",
      "ip_addr - TEXT\n",
      "master_metadata_track_name - TEXT\n",
      "master_metadata_album_artist_name - TEXT\n",
      "master_metadata_album_album_name - TEXT\n",
      "spotify_track_uri - TEXT\n",
      "episode_name - FLOAT\n",
      "episode_show_name - FLOAT\n",
      "spotify_episode_uri - FLOAT\n",
      "audiobook_title - FLOAT\n",
      "audiobook_uri - FLOAT\n",
      "audiobook_chapter_uri - FLOAT\n",
      "audiobook_chapter_title - FLOAT\n",
      "reason_start - TEXT\n",
      "reason_end - TEXT\n",
      "shuffle - BOOLEAN\n",
      "skipped - BOOLEAN\n",
      "offline - BOOLEAN\n",
      "offline_timestamp - FLOAT\n",
      "incognito_mode - BOOLEAN\n",
      "year - BIGINT\n"
     ]
    }
   ],
   "source": [
    "# Inspect the database to list the fields\n",
    "inspector = inspect(engine)\n",
    "columns = inspector.get_columns(\"spotify_history\")\n",
    "\n",
    "# Print column names\n",
    "print(\"Columns in spotify_history table:\")\n",
    "for col in columns:\n",
    "    print(col[\"name\"], \"-\", col[\"type\"])"
   ]
  },
  {
   "cell_type": "markdown",
   "id": "1946d38f-3421-4284-9e97-767f24ae729b",
   "metadata": {},
   "source": [
    "For practice, there are not multiple tables in this database. There is only one table named spotify_history."
   ]
  },
  {
   "cell_type": "markdown",
   "id": "f4ef2d42-d445-4d96-983a-444c09e97e97",
   "metadata": {},
   "source": [
    "Metadata for this database can be found here: https://github.com/MelissaLaurino/SpotifyStreamingHistory"
   ]
  },
  {
   "cell_type": "markdown",
   "id": "29ea3225-6c20-46aa-881b-556a754089f6",
   "metadata": {},
   "source": [
    "We can use COUNT( * ) to summarize and count occurrences in SQL. Use COUNT( * ) below:"
   ]
  },
  {
   "cell_type": "markdown",
   "id": "fbb4cf6b-4b9c-4345-ac1c-d7836078ab50",
   "metadata": {},
   "source": [
    "Query 1: <br>\n",
    "Find the top 30 artists listened to in the year 2024."
   ]
  },
  {
   "cell_type": "code",
   "execution_count": null,
   "id": "8363df2a-72b0-4371-ab65-ca108448d835",
   "metadata": {},
   "outputs": [],
   "source": []
  },
  {
   "cell_type": "markdown",
   "id": "91126135-9a29-4b71-8fc5-3244714b2df5",
   "metadata": {},
   "source": [
    "Query 2: <br>\n",
    "Find the top 30 songs listened to in the year 2017."
   ]
  },
  {
   "cell_type": "code",
   "execution_count": null,
   "id": "113f1b54-f671-42db-89ab-f06994a841b4",
   "metadata": {},
   "outputs": [],
   "source": []
  },
  {
   "cell_type": "markdown",
   "id": "5f792c1f-239e-4836-b101-60fc51ec2883",
   "metadata": {},
   "source": [
    "Query 3: <br>\n",
    "Ask a question and create your own! "
   ]
  },
  {
   "cell_type": "code",
   "execution_count": null,
   "id": "ce1081b7-3242-4e33-92da-ea7d267c8df1",
   "metadata": {},
   "outputs": [],
   "source": []
  },
  {
   "cell_type": "code",
   "execution_count": null,
   "id": "d4de87d1-d51e-4830-a09c-55775b3cc644",
   "metadata": {},
   "outputs": [],
   "source": [
    "#Disconnect from the database. Always remember to disconnect :) \n"
   ]
  },
  {
   "cell_type": "markdown",
   "id": "76827fdb",
   "metadata": {},
   "source": [
    "# Assignment #5 - Data Gathering and Warehousing - DSSA-5102\n",
    "\n",
    "<b>Only Murders in the...Database?</b><br>\n",
    "An introduction to navigating SQL databases using R and Jupyter Notebook. <br>\n",
    "<br>\n",
    "Congrats! You have solved the murder from Assignment #4, let's practice more queries in SQL City! <br>\n",
    "<br>\n",
    "Your task for <b>Assignment #5</b> is to complete the following objectives:<br>\n",
    "You are a data scientist that was hired by SQL City. Your objectives are as follows:<br>\n",
    "- Objective 1: The town is willing to fund more training for officers in SQL City based on the type of crime that is most committed. The training would help them identify the clues that indicate these two types upon arrival on a crime scene. As a data scientist, what crime type would you advise needs more training for officers in SQL city? What crime was committed the most in SQL City within the database date range? Save your query as a dataframe and quickly add a ggplot2 bar graph visual to support your recommendation.<br>\n",
    "- Objective 2: The town has also received more funding to encourage DOUBLE overtime for officers in SQL City during the month with the highest crime rate through out the date range of the database. What month would you advise the town to encourage officer overtime? <br>\n",
    "- Objective 3: To thank the officers for their extra training and overtime, the town will pay for their monthly gym membership. They want to give the officers the membership that the least amount of civilians have to avoid being recognized daily as the town heros. The membership can be used in any town. What membership does the town give them?<br><br>\n",
    "<b>--</b>Add detailed comments to explain EVERY query or SQL command you use while we are still learning and practicing. I have my steps outlined, but please add more cells inbetween for additional queries! There is no limit on the number of queries you can use. <br>\n",
    "<b>--</b>For each query include comments such as \"SELECT all records FROM table WHERE column name = X\"<br>\n",
    "<b>--</b>Answer the prompts in markdown cells. Justify your response. A simple yes/no answer will receive no credit.<br>\n",
    "\n",
    "Recommended Readings: Chapters 4-7 in Getting Started with SQL by Thomas Nield<br><br>\n",
    "\n",
    "SQL Dictionary: https://www.w3schools.com/sql/sql_ref_join.asp\n",
    "\n",
    "This fabulous database was created by @NUKnightLab on Github and can be found here: https://github.com/NUKnightLab/sql-mysteries\n"
   ]
  },
  {
   "cell_type": "code",
   "execution_count": 1,
   "id": "5e4ae281",
   "metadata": {},
   "outputs": [],
   "source": [
    "# Load necessary libraries\n"
   ]
  },
  {
   "cell_type": "code",
   "execution_count": 2,
   "id": "89bc8e32",
   "metadata": {},
   "outputs": [],
   "source": [
    "# Connect to our .db file\n"
   ]
  },
  {
   "cell_type": "code",
   "execution_count": 35,
   "id": "3850f72a",
   "metadata": {},
   "outputs": [],
   "source": [
    "# For a quick reference for tables and columns, refer to schema on Blackboard, or list the tables and fields below:\n"
   ]
  },
  {
   "cell_type": "markdown",
   "id": "25e53d9b",
   "metadata": {},
   "source": [
    "We can use the COUNT command to explore our queries further. COUNT will count the number of records that meet the specified criteria.\n",
    "Additional examples using COUNT: https://www.w3schools.com/sql/sql_count.asp"
   ]
  },
  {
   "cell_type": "code",
   "execution_count": 4,
   "id": "20476b98",
   "metadata": {},
   "outputs": [
    {
     "data": {
      "text/html": [
       "<table class=\"dataframe\">\n",
       "<caption>A data.frame: 10 × 2</caption>\n",
       "<thead>\n",
       "\t<tr><th scope=col>city</th><th scope=col>count</th></tr>\n",
       "\t<tr><th scope=col>&lt;chr&gt;</th><th scope=col>&lt;int&gt;</th></tr>\n",
       "</thead>\n",
       "<tbody>\n",
       "\t<tr><td>SQL City    </td><td>9</td></tr>\n",
       "\t<tr><td>Murfreesboro</td><td>9</td></tr>\n",
       "\t<tr><td>Toledo      </td><td>8</td></tr>\n",
       "\t<tr><td>Jersey City </td><td>8</td></tr>\n",
       "\t<tr><td>Evansville  </td><td>8</td></tr>\n",
       "\t<tr><td>Duluth      </td><td>8</td></tr>\n",
       "\t<tr><td>Wilmington  </td><td>7</td></tr>\n",
       "\t<tr><td>Waterbury   </td><td>7</td></tr>\n",
       "\t<tr><td>Reno        </td><td>7</td></tr>\n",
       "\t<tr><td>Portsmouth  </td><td>7</td></tr>\n",
       "</tbody>\n",
       "</table>\n"
      ],
      "text/latex": [
       "A data.frame: 10 × 2\n",
       "\\begin{tabular}{ll}\n",
       " city & count\\\\\n",
       " <chr> & <int>\\\\\n",
       "\\hline\n",
       "\t SQL City     & 9\\\\\n",
       "\t Murfreesboro & 9\\\\\n",
       "\t Toledo       & 8\\\\\n",
       "\t Jersey City  & 8\\\\\n",
       "\t Evansville   & 8\\\\\n",
       "\t Duluth       & 8\\\\\n",
       "\t Wilmington   & 7\\\\\n",
       "\t Waterbury    & 7\\\\\n",
       "\t Reno         & 7\\\\\n",
       "\t Portsmouth   & 7\\\\\n",
       "\\end{tabular}\n"
      ],
      "text/markdown": [
       "\n",
       "A data.frame: 10 × 2\n",
       "\n",
       "| city &lt;chr&gt; | count &lt;int&gt; |\n",
       "|---|---|\n",
       "| SQL City     | 9 |\n",
       "| Murfreesboro | 9 |\n",
       "| Toledo       | 8 |\n",
       "| Jersey City  | 8 |\n",
       "| Evansville   | 8 |\n",
       "| Duluth       | 8 |\n",
       "| Wilmington   | 7 |\n",
       "| Waterbury    | 7 |\n",
       "| Reno         | 7 |\n",
       "| Portsmouth   | 7 |\n",
       "\n"
      ],
      "text/plain": [
       "   city         count\n",
       "1  SQL City     9    \n",
       "2  Murfreesboro 9    \n",
       "3  Toledo       8    \n",
       "4  Jersey City  8    \n",
       "5  Evansville   8    \n",
       "6  Duluth       8    \n",
       "7  Wilmington   7    \n",
       "8  Waterbury    7    \n",
       "9  Reno         7    \n",
       "10 Portsmouth   7    "
      ]
     },
     "metadata": {},
     "output_type": "display_data"
    }
   ],
   "source": [
    "#Practice analyzing COUNTS in data tables with SQL queries:\n",
    "#Brainstorming for Objective 1\n",
    "#We can find the top ten cities within our Murder Mystery database that had the most crimes by using the COUNT SQL command.\n",
    "#SELECT the cities that have the most counts within the table crime_scene_report and\n",
    "#GROUP the results BY city and ORDER BY a DESC count, only show a limit of 10 records:\n",
    "practice_cities <- dbSendQuery(db, \"SELECT city, COUNT(*) as count\n",
    "                            From crime_scene_report\n",
    "                            GROUP BY city\n",
    "                            ORDER BY count DESC\n",
    "                            LIMIT 10\")\n",
    "dbFetch(practice_cities)\n",
    "\n",
    "#Looks like SQL City and Murfeesboro have the highest number of crimes! \n",
    "\n",
    "#Use COUNT(*) as count to determine the answers to the objectives below. "
   ]
  },
  {
   "cell_type": "markdown",
   "id": "93702940",
   "metadata": {},
   "source": [
    "<b>Objective 1:</b> The town is willing to fund more training for officers in SQL City based on the type of crime that is most committed. The training would help them identify the clues that indicate these two types upon arrival on a crime scene. As a data scientist, what crime type would you advise needs more training for officers in SQL city? What crime was committed the most in SQL City within the database date range? Save your query as a dataframe and quickly add a bar graph visual to support your recommendation."
   ]
  },
  {
   "cell_type": "code",
   "execution_count": 5,
   "id": "2079946e",
   "metadata": {},
   "outputs": [],
   "source": []
  },
  {
   "cell_type": "code",
   "execution_count": null,
   "id": "dc9a43c8",
   "metadata": {},
   "outputs": [],
   "source": []
  },
  {
   "cell_type": "code",
   "execution_count": null,
   "id": "e99bfad0",
   "metadata": {},
   "outputs": [],
   "source": [
    "# Graph your results:\n",
    "\n",
    "\n"
   ]
  },
  {
   "cell_type": "markdown",
   "id": "a8007ef0",
   "metadata": {},
   "source": [
    "Answer:"
   ]
  },
  {
   "cell_type": "markdown",
   "id": "f8df6bf8",
   "metadata": {},
   "source": [
    "<b>Objective 2:</b> The town has also received more funding to encourage DOUBLE overtime for officers in SQL City during the month with the highest crime rate through out the date range of the database. What month would you advise the town to encourage officer overtime?"
   ]
  },
  {
   "cell_type": "code",
   "execution_count": null,
   "id": "02dcba2e",
   "metadata": {},
   "outputs": [],
   "source": [
    "\n",
    "\n",
    "\n"
   ]
  },
  {
   "cell_type": "markdown",
   "id": "b5524834",
   "metadata": {},
   "source": [
    "Answer:"
   ]
  },
  {
   "cell_type": "markdown",
   "id": "51313b07",
   "metadata": {},
   "source": [
    "<b>Objective 3:</b> To thank the officers for their extra training and overtime, the town will pay for their monthly gym membership. They want to give the officers the membership that the least amount of civilians have to avoid being recognized daily as the town heros. The membership can be used in any town. What membership does the town give them?"
   ]
  },
  {
   "cell_type": "code",
   "execution_count": null,
   "id": "317f86a1",
   "metadata": {},
   "outputs": [],
   "source": [
    "\n",
    "\n"
   ]
  },
  {
   "cell_type": "markdown",
   "id": "d3519f15",
   "metadata": {},
   "source": [
    "Answer:"
   ]
  },
  {
   "cell_type": "code",
   "execution_count": null,
   "id": "68e82785",
   "metadata": {},
   "outputs": [],
   "source": [
    "#Disconnect from the database. Always remember to disconnect :) \n",
    "\n"
   ]
  }
 ],
 "metadata": {
  "kernelspec": {
   "display_name": "Python [conda env:base] *",
   "language": "python",
   "name": "conda-base-py"
  },
  "language_info": {
   "codemirror_mode": {
    "name": "ipython",
    "version": 3
   },
   "file_extension": ".py",
   "mimetype": "text/x-python",
   "name": "python",
   "nbconvert_exporter": "python",
   "pygments_lexer": "ipython3",
   "version": "3.9.21"
  }
 },
 "nbformat": 4,
 "nbformat_minor": 5
}
