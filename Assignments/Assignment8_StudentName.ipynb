{
 "cells": [
  {
   "cell_type": "markdown",
   "id": "71b982c8-966e-41de-9772-fb26c2ea0e00",
   "metadata": {},
   "source": [
    "# Assignment #8 - Data Gathering and Warehousing - DSSA-5102\n",
    "\n",
    "Instructor: Melissa Laurino</br>\n",
    "Spring 2025</br>\n",
    "\n",
    "Name: \n",
    "</br>\n",
    "Date: \n",
    "<br>\n",
    "<br>\n",
    "**At this time in the semester:** <br>\n",
    "- We have explored a dataset. <br>\n",
    "- We have cleaned our dataset. <br>\n",
    "- We created a Github account with a repository for this class and included a metadata read me file about our data. <br>\n",
    "- We introduced general SQL syntax, queries, and applications in Python.<br>\n",
    "- Created our own databases from scratch using MySQL Workbench and Python with SQLAlchemy on our local server and locally on our machine.\n",
    "- Populated our databases with the data we cleaned at the start of the semester.\n",
    "<br>\n",
    "\n",
    "Now we will **JOIN** our knowledge and tables to answer more complex questions about our dataset! We will practice joining tables and understand the importance of using different commands.<br>\n",
    "\n",
    "JOIN statements are used to combine results from two or more tables based on a related column between them.<br>\n",
    "\n",
    "Review the powerpoint and readings specified on Blackboard.<br>\n",
    "\n",
    "In the event your database does not meet the requirements below to answer the question, please use the database provided in Assignment #4 and #5. Remember to credit your data source. <br>\n",
    "\n",
    "Follow the instructions below to complete the assignment. Write your question you are answering with your data query and visualize your results in a way that fits your data. <br>\n",
    "Be sure to comment **all** code and answer **all** questions in markdown for full credit.<br>"
   ]
  },
  {
   "cell_type": "markdown",
   "id": "317056b3-176f-4b3d-a303-2fe93d9cdcee",
   "metadata": {},
   "source": [
    "**Data origin:** "
   ]
  },
  {
   "cell_type": "markdown",
   "id": "8dac3f0d-fb72-4a6f-b428-d3bd098168a8",
   "metadata": {},
   "source": [
    "#### INNER JOIN (or JOIN)\n",
    "Display matching records from TWO tables! Choose to combine two tables using inner join. <br>\n",
    "Write your question you are answering with your data query and visualize your results. <br>\n",
    "<br>\n",
    "**Example Question:** What were the songs most listened to during this week in the year 2022?\n",
    "<br>\n",
    "**What tables are we joining?** song and listening_history"
   ]
  },
  {
   "cell_type": "code",
   "execution_count": null,
   "id": "b2f859f4-e4df-436d-8942-f33c41239cad",
   "metadata": {},
   "outputs": [],
   "source": []
  },
  {
   "cell_type": "markdown",
   "id": "7319c462-a561-4767-8f38-ceb5bb9bedf9",
   "metadata": {},
   "source": [
    "#### LEFT JOIN\n",
    "<br>\n",
    "Returns ALL records from the left table and matching records from the right table. Write your question you are answering with your data query and visualize your results.. \n",
    "<br><br>\n",
    "**Question:** What day of the week were the most songs played?\n",
    "<br>\n",
    "**What tables are we joining?** song and listening_history"
   ]
  },
  {
   "cell_type": "code",
   "execution_count": null,
   "id": "659c7402-849f-4066-baba-bc657d85a565",
   "metadata": {},
   "outputs": [],
   "source": []
  },
  {
   "cell_type": "markdown",
   "id": "1f147823-8e2a-48f1-9a02-4ae97d568aa4",
   "metadata": {},
   "source": [
    "#### RIGHT JOIN\n",
    "<br>\n",
    "Returns ALL records from the right table and matching records from the left table. Write your question you are answering with your data query and visualize your results.. <br>\n",
    "<br>\n",
    "**Question:** What were the days of the week and artists listened to on Sundays? Include all listening history for those times.\n",
    "<br>\n",
    "**What tables are we joining?** song and listening_history"
   ]
  },
  {
   "cell_type": "code",
   "execution_count": null,
   "id": "9315d671-9163-4428-af59-9706a7410d96",
   "metadata": {},
   "outputs": [],
   "source": []
  },
  {
   "cell_type": "markdown",
   "id": "9dd14fbe-55d0-44b2-b0ce-1b672f3d4042",
   "metadata": {},
   "source": [
    "#### FULL JOIN or UNION of RIGHT JOIN and LEFT JOIN\n",
    "<br>\n",
    "Can answer multiple objectives at the same time! Not recommended for large databases. Results may slow your machine or quit before finishing. Write your question you are answering with your data query and visualize your results. <br>\n",
    "<br>\n",
    "**Question:** What artists were listened to on Sundays and what are the listening_history details in the year 2021? Let's save this as a dataframe and determine which artist contained the most \"trackdone\" (Listened to the entire song).\n",
    "<br>\n",
    "**What tables are we joining?** song and listening_history"
   ]
  },
  {
   "cell_type": "code",
   "execution_count": null,
   "id": "1f8d5e2f-2c52-4a57-a549-c7c19c02f2ed",
   "metadata": {},
   "outputs": [],
   "source": []
  },
  {
   "cell_type": "code",
   "execution_count": 145,
   "id": "69c1629d-cb65-4aab-acb8-97e5a2fa2634",
   "metadata": {},
   "outputs": [],
   "source": [
    "# Close your connection :)\n",
    "cursor.close()\n",
    "conn.close()"
   ]
  }
 ],
 "metadata": {
  "kernelspec": {
   "display_name": "Python [conda env:base] *",
   "language": "python",
   "name": "conda-base-py"
  },
  "language_info": {
   "codemirror_mode": {
    "name": "ipython",
    "version": 3
   },
   "file_extension": ".py",
   "mimetype": "text/x-python",
   "name": "python",
   "nbconvert_exporter": "python",
   "pygments_lexer": "ipython3",
   "version": "3.9.21"
  }
 },
 "nbformat": 4,
 "nbformat_minor": 5
}
